{
 "cells": [
  {
   "cell_type": "markdown",
   "id": "0f066194",
   "metadata": {},
   "source": [
    "#### 1. Why are functions advantageous to have in your programs?"
   ]
  },
  {
   "cell_type": "markdown",
   "id": "78907155",
   "metadata": {},
   "source": [
    "Because of reusability"
   ]
  },
  {
   "cell_type": "code",
   "execution_count": 2,
   "id": "65c48044",
   "metadata": {},
   "outputs": [],
   "source": [
    "def add(a,b):\n",
    "    return a+b"
   ]
  },
  {
   "cell_type": "code",
   "execution_count": 3,
   "id": "6ffdd304",
   "metadata": {},
   "outputs": [
    {
     "data": {
      "text/plain": [
       "5"
      ]
     },
     "execution_count": 3,
     "metadata": {},
     "output_type": "execute_result"
    }
   ],
   "source": [
    "add(2,3)"
   ]
  },
  {
   "cell_type": "markdown",
   "id": "304601fb",
   "metadata": {},
   "source": [
    "#### 2. When does the code in a function run: when it's specified or when it's called?"
   ]
  },
  {
   "cell_type": "markdown",
   "id": "0ad7f4f1",
   "metadata": {},
   "source": [
    "When it is called"
   ]
  },
  {
   "cell_type": "markdown",
   "id": "1f906e8d",
   "metadata": {},
   "source": [
    "#### 3. What statement creates a function?"
   ]
  },
  {
   "cell_type": "markdown",
   "id": "8214c74e",
   "metadata": {},
   "source": [
    "def"
   ]
  },
  {
   "cell_type": "markdown",
   "id": "f15a0231",
   "metadata": {},
   "source": [
    "#### 4. What is the difference between a function and a function call?"
   ]
  },
  {
   "cell_type": "code",
   "execution_count": null,
   "id": "b1601683",
   "metadata": {},
   "outputs": [],
   "source": [
    "def add(a,b):\n",
    "    return a+b"
   ]
  },
  {
   "cell_type": "code",
   "execution_count": 5,
   "id": "57242619",
   "metadata": {},
   "outputs": [
    {
     "data": {
      "text/plain": [
       "14.9"
      ]
     },
     "execution_count": 5,
     "metadata": {},
     "output_type": "execute_result"
    }
   ],
   "source": [
    "add(6,8.9)"
   ]
  },
  {
   "cell_type": "markdown",
   "id": "2d208b56",
   "metadata": {},
   "source": [
    "function - it is a code that is used to perform a specific task.\n",
    "\n",
    "function call - it is a method to invoke the functions"
   ]
  },
  {
   "cell_type": "markdown",
   "id": "c2244b39",
   "metadata": {},
   "source": [
    "#### 5. How many global scopes are there in a Python program? How many local scopes?"
   ]
  },
  {
   "cell_type": "markdown",
   "id": "2fbff043",
   "metadata": {},
   "source": [
    "There can be any number of global scopes and local scopes in a python programming.\n",
    "\n",
    "Global scopes - it can be accessed anywhere in the programm eg: print()\n",
    "    \n",
    "Local scopes - it can be accessed only in a particular function definition eg: return"
   ]
  },
  {
   "cell_type": "markdown",
   "id": "96bc7620",
   "metadata": {},
   "source": [
    "#### 6. What happens to variables in a local scope when the function call returns?"
   ]
  },
  {
   "cell_type": "markdown",
   "id": "2bbba33d",
   "metadata": {},
   "source": [
    "variables inside the local scopes cannot be used outside the function definition."
   ]
  },
  {
   "cell_type": "markdown",
   "id": "928fe166",
   "metadata": {},
   "source": [
    "#### 7. What is the concept of a return value? Is it possible to have a return value in an expression?"
   ]
  },
  {
   "cell_type": "markdown",
   "id": "b05349c0",
   "metadata": {},
   "source": [
    "The Python return statement is a special statement that you can use inside a function or method to send the function’s result back to the caller. A return statement consists of the return keyword followed by an optional return value.\n",
    "\n",
    "Yes we can use return value in an expression"
   ]
  },
  {
   "cell_type": "markdown",
   "id": "07042bcc",
   "metadata": {},
   "source": [
    "#### 8. If a function does not have a return statement, what is the return value of a call to that function?"
   ]
  },
  {
   "cell_type": "markdown",
   "id": "24c34f27",
   "metadata": {},
   "source": [
    "If no return statement appears in a function definition, control automatically returns to the calling function after the last statement of the called function is executed. In this case, the return value of the called function is undefined"
   ]
  },
  {
   "cell_type": "markdown",
   "id": "8f88daf6",
   "metadata": {},
   "source": [
    "#### 9. How do you make a function variable refer to the global variable?"
   ]
  },
  {
   "cell_type": "markdown",
   "id": "7ca694f6",
   "metadata": {},
   "source": [
    "by defining that variable outside the function definition"
   ]
  },
  {
   "cell_type": "code",
   "execution_count": 6,
   "id": "a5d5cd9d",
   "metadata": {},
   "outputs": [],
   "source": [
    "def mul(c,d):\n",
    "    result = c * d\n",
    "    return result"
   ]
  },
  {
   "cell_type": "code",
   "execution_count": 7,
   "id": "4fcca15c",
   "metadata": {},
   "outputs": [
    {
     "data": {
      "text/plain": [
       "6"
      ]
     },
     "execution_count": 7,
     "metadata": {},
     "output_type": "execute_result"
    }
   ],
   "source": [
    "mul(2,3)"
   ]
  },
  {
   "cell_type": "code",
   "execution_count": 8,
   "id": "3655b31a",
   "metadata": {},
   "outputs": [
    {
     "ename": "NameError",
     "evalue": "name 'result' is not defined",
     "output_type": "error",
     "traceback": [
      "\u001b[1;31m---------------------------------------------------------------------------\u001b[0m",
      "\u001b[1;31mNameError\u001b[0m                                 Traceback (most recent call last)",
      "Input \u001b[1;32mIn [8]\u001b[0m, in \u001b[0;36m<cell line: 1>\u001b[1;34m()\u001b[0m\n\u001b[1;32m----> 1\u001b[0m \u001b[43mresult\u001b[49m\n",
      "\u001b[1;31mNameError\u001b[0m: name 'result' is not defined"
     ]
    }
   ],
   "source": [
    "result   #result is local scope."
   ]
  },
  {
   "cell_type": "code",
   "execution_count": 10,
   "id": "89f7c5b8",
   "metadata": {},
   "outputs": [],
   "source": [
    "result = 600   #defining result as global scope"
   ]
  },
  {
   "cell_type": "code",
   "execution_count": 11,
   "id": "882fc7c5",
   "metadata": {},
   "outputs": [
    {
     "name": "stdout",
     "output_type": "stream",
     "text": [
      "600\n"
     ]
    }
   ],
   "source": [
    "print(result)"
   ]
  },
  {
   "cell_type": "code",
   "execution_count": 12,
   "id": "52d237ce",
   "metadata": {},
   "outputs": [
    {
     "data": {
      "text/plain": [
       "600"
      ]
     },
     "execution_count": 12,
     "metadata": {},
     "output_type": "execute_result"
    }
   ],
   "source": [
    "result   "
   ]
  },
  {
   "cell_type": "markdown",
   "id": "5629a523",
   "metadata": {},
   "source": [
    "#### 10. What is the data type of None?"
   ]
  },
  {
   "cell_type": "markdown",
   "id": "e341caf3",
   "metadata": {},
   "source": [
    "None is a data type of its own (NoneType) and only None can be None."
   ]
  },
  {
   "cell_type": "markdown",
   "id": "87fc011e",
   "metadata": {},
   "source": [
    "#### 11. What does the sentence import areallyourpetsnamederic do?"
   ]
  },
  {
   "cell_type": "code",
   "execution_count": 14,
   "id": "4975b44b",
   "metadata": {},
   "outputs": [
    {
     "ename": "ModuleNotFoundError",
     "evalue": "No module named 'areallyourpetsnamederic'",
     "output_type": "error",
     "traceback": [
      "\u001b[1;31m---------------------------------------------------------------------------\u001b[0m",
      "\u001b[1;31mModuleNotFoundError\u001b[0m                       Traceback (most recent call last)",
      "Input \u001b[1;32mIn [14]\u001b[0m, in \u001b[0;36m<cell line: 1>\u001b[1;34m()\u001b[0m\n\u001b[1;32m----> 1\u001b[0m \u001b[38;5;28;01mimport\u001b[39;00m \u001b[38;5;21;01mareallyourpetsnamederic\u001b[39;00m\n",
      "\u001b[1;31mModuleNotFoundError\u001b[0m: No module named 'areallyourpetsnamederic'"
     ]
    }
   ],
   "source": [
    "import areallyourpetsnamederic"
   ]
  },
  {
   "cell_type": "markdown",
   "id": "63a17586",
   "metadata": {},
   "source": [
    "#### 12. If you had a bacon() feature in a spam module, what would you call it after importing spam?"
   ]
  },
  {
   "cell_type": "markdown",
   "id": "9932c53d",
   "metadata": {},
   "source": [
    "spam.bacon()"
   ]
  },
  {
   "cell_type": "markdown",
   "id": "7fae7cfb",
   "metadata": {},
   "source": [
    "#### 13. What can you do to save a programme from crashing if it encounters an error?"
   ]
  },
  {
   "cell_type": "markdown",
   "id": "bd2af816",
   "metadata": {},
   "source": [
    "We can save a programme from crashing if it encounters an error by using logging each instance of a program in cloud, another file etc."
   ]
  },
  {
   "cell_type": "markdown",
   "id": "bf4f224e",
   "metadata": {},
   "source": [
    "different information that we can log:\n",
    "\n",
    "1) Debug\n",
    "\n",
    "2) Info\n",
    "\n",
    "3) Warning\n",
    "\n",
    "4) Error\n",
    "\n",
    "5) Critical"
   ]
  },
  {
   "cell_type": "markdown",
   "id": "33df304e",
   "metadata": {},
   "source": [
    "#### 14. What is the purpose of the try clause? What is the purpose of the except clause?"
   ]
  },
  {
   "cell_type": "markdown",
   "id": "481beebd",
   "metadata": {},
   "source": [
    "try and except clause are used to handle the run time errors."
   ]
  },
  {
   "cell_type": "code",
   "execution_count": 17,
   "id": "dc78a575",
   "metadata": {},
   "outputs": [
    {
     "name": "stdout",
     "output_type": "stream",
     "text": [
      "The number is infinity division by zero\n"
     ]
    }
   ],
   "source": [
    "try:                  # in this block we write the code which will give problem during run time\n",
    "    a = 5/0\n",
    "except Exception as e:                  # this block will handle that error during the run time\n",
    "    print(\"The number is infinity\", e)"
   ]
  },
  {
   "cell_type": "code",
   "execution_count": null,
   "id": "e7085e1d",
   "metadata": {},
   "outputs": [],
   "source": []
  }
 ],
 "metadata": {
  "kernelspec": {
   "display_name": "Python 3 (ipykernel)",
   "language": "python",
   "name": "python3"
  },
  "language_info": {
   "codemirror_mode": {
    "name": "ipython",
    "version": 3
   },
   "file_extension": ".py",
   "mimetype": "text/x-python",
   "name": "python",
   "nbconvert_exporter": "python",
   "pygments_lexer": "ipython3",
   "version": "3.10.6"
  }
 },
 "nbformat": 4,
 "nbformat_minor": 5
}
