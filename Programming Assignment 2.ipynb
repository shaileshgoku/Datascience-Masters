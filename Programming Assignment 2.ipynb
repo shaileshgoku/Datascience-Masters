{
 "cells": [
  {
   "cell_type": "markdown",
   "id": "aac396ad",
   "metadata": {},
   "source": [
    "1. Write a Python program to convert kilometers to miles?\n",
    "2. Write a Python program to convert Celsius to Fahrenheit?\n",
    "3. Write a Python program to display calendar?\n",
    "4. Write a Python program to solve quadratic equation?\n",
    "5. Write a Python program to swap two variables without temp variable?"
   ]
  },
  {
   "cell_type": "markdown",
   "id": "74fc04b9",
   "metadata": {},
   "source": [
    "#### 1.Write a Python program to convert kilometers to miles?"
   ]
  },
  {
   "cell_type": "code",
   "execution_count": 11,
   "id": "9fa0a143",
   "metadata": {},
   "outputs": [
    {
     "name": "stdout",
     "output_type": "stream",
     "text": [
      "Enter the kilometers: 100\n",
      "Miles:  62.370000000000005\n"
     ]
    }
   ],
   "source": [
    "km = input(\"Enter the kilometers: \")\n",
    "if type(km) == str:\n",
    "    miles = float(km) * 0.6237\n",
    "    print(\"Miles: \",miles)\n",
    "else:\n",
    "    miles = int(km)* 0.6237\n",
    "    print(\"Miles: \",miles)"
   ]
  },
  {
   "cell_type": "markdown",
   "id": "5736d8e9",
   "metadata": {},
   "source": [
    "#### 2.Write a Python program to convert Celsius to Fahrenheit?"
   ]
  },
  {
   "cell_type": "code",
   "execution_count": 12,
   "id": "ba71a0db",
   "metadata": {},
   "outputs": [
    {
     "name": "stdout",
     "output_type": "stream",
     "text": [
      "Enter the temperature in Celsius: 36.8\n",
      "Fahrenheit is:  98.24\n"
     ]
    }
   ],
   "source": [
    "c = input(\"Enter the temperature in Celsius: \")\n",
    "if type(c) == str:\n",
    "    f = ((float(c))*(9/5)) + 32\n",
    "    print(\"Fahrenheit is: \",f)\n",
    "else:\n",
    "    f = ((int(c))*(9/5)) + 32\n",
    "    print(\"Fahrenheit is: \",f)"
   ]
  },
  {
   "cell_type": "markdown",
   "id": "f8b2247a",
   "metadata": {},
   "source": [
    "#### 3.Write a Python program to display calendar?"
   ]
  },
  {
   "cell_type": "code",
   "execution_count": 1,
   "id": "b16b3eee",
   "metadata": {},
   "outputs": [
    {
     "name": "stdout",
     "output_type": "stream",
     "text": [
      "Enter the Year in yyyy: 2022\n",
      "To display the particular month type yes otherwise type no: no\n",
      "                                  2022\n",
      "\n",
      "      January                   February                   March\n",
      "Mo Tu We Th Fr Sa Su      Mo Tu We Th Fr Sa Su      Mo Tu We Th Fr Sa Su\n",
      "                1  2          1  2  3  4  5  6          1  2  3  4  5  6\n",
      " 3  4  5  6  7  8  9       7  8  9 10 11 12 13       7  8  9 10 11 12 13\n",
      "10 11 12 13 14 15 16      14 15 16 17 18 19 20      14 15 16 17 18 19 20\n",
      "17 18 19 20 21 22 23      21 22 23 24 25 26 27      21 22 23 24 25 26 27\n",
      "24 25 26 27 28 29 30      28                        28 29 30 31\n",
      "31\n",
      "\n",
      "       April                      May                       June\n",
      "Mo Tu We Th Fr Sa Su      Mo Tu We Th Fr Sa Su      Mo Tu We Th Fr Sa Su\n",
      "             1  2  3                         1             1  2  3  4  5\n",
      " 4  5  6  7  8  9 10       2  3  4  5  6  7  8       6  7  8  9 10 11 12\n",
      "11 12 13 14 15 16 17       9 10 11 12 13 14 15      13 14 15 16 17 18 19\n",
      "18 19 20 21 22 23 24      16 17 18 19 20 21 22      20 21 22 23 24 25 26\n",
      "25 26 27 28 29 30         23 24 25 26 27 28 29      27 28 29 30\n",
      "                          30 31\n",
      "\n",
      "        July                     August                  September\n",
      "Mo Tu We Th Fr Sa Su      Mo Tu We Th Fr Sa Su      Mo Tu We Th Fr Sa Su\n",
      "             1  2  3       1  2  3  4  5  6  7                1  2  3  4\n",
      " 4  5  6  7  8  9 10       8  9 10 11 12 13 14       5  6  7  8  9 10 11\n",
      "11 12 13 14 15 16 17      15 16 17 18 19 20 21      12 13 14 15 16 17 18\n",
      "18 19 20 21 22 23 24      22 23 24 25 26 27 28      19 20 21 22 23 24 25\n",
      "25 26 27 28 29 30 31      29 30 31                  26 27 28 29 30\n",
      "\n",
      "      October                   November                  December\n",
      "Mo Tu We Th Fr Sa Su      Mo Tu We Th Fr Sa Su      Mo Tu We Th Fr Sa Su\n",
      "                1  2          1  2  3  4  5  6                1  2  3  4\n",
      " 3  4  5  6  7  8  9       7  8  9 10 11 12 13       5  6  7  8  9 10 11\n",
      "10 11 12 13 14 15 16      14 15 16 17 18 19 20      12 13 14 15 16 17 18\n",
      "17 18 19 20 21 22 23      21 22 23 24 25 26 27      19 20 21 22 23 24 25\n",
      "24 25 26 27 28 29 30      28 29 30                  26 27 28 29 30 31\n",
      "31\n",
      "\n"
     ]
    }
   ],
   "source": [
    "import calendar as cl\n",
    "\n",
    "year = int(input(\"Enter the Year in yyyy: \"))\n",
    "\n",
    "next = input(\"To display the particular month type yes otherwise type no: \")\n",
    "\n",
    "if next == \"yes\":\n",
    "    Month = int(input(\"Enter the month in mm: \"))\n",
    "    print(cl.month(year,Month))\n",
    "\n",
    "else:\n",
    "    print(cl.calendar(year))"
   ]
  },
  {
   "cell_type": "markdown",
   "id": "4cbf5004",
   "metadata": {},
   "source": [
    "#### 4.Write a Python program to solve quadratic equation?"
   ]
  },
  {
   "cell_type": "code",
   "execution_count": 1,
   "id": "25a7c0fa",
   "metadata": {},
   "outputs": [
    {
     "name": "stdout",
     "output_type": "stream",
     "text": [
      "((35+0j), (-55+0j))\n"
     ]
    }
   ],
   "source": [
    "def equation(a, b, c):\n",
    "    import cmath as mt\n",
    "    d = -b + mt.sqrt((b ** 2) - (4 * a * c))  / 2 * a\n",
    "    e = -b - mt.sqrt((b ** 2) - (4 * a * c)) / 2 * a\n",
    "    return d, e\n",
    "\n",
    "\n",
    "d= equation(9,10,0)\n",
    "print(d)"
   ]
  },
  {
   "cell_type": "markdown",
   "id": "62f46da0",
   "metadata": {},
   "source": [
    "#### 5.Write a Python program to swap two variables without temp variable?"
   ]
  },
  {
   "cell_type": "code",
   "execution_count": 3,
   "id": "31fe6f31",
   "metadata": {},
   "outputs": [
    {
     "name": "stdout",
     "output_type": "stream",
     "text": [
      "Before Swap:  x= 4 y= 5\n",
      "After Swap:  x= 5 y= 4\n"
     ]
    }
   ],
   "source": [
    "x = 4\n",
    "y = 5\n",
    "print(\"Before Swap: \", \"x=\", x, \"y=\", y)\n",
    "x, y = y, x\n",
    "print(\"After Swap: \", \"x=\", x, \"y=\", y)\n"
   ]
  }
 ],
 "metadata": {
  "kernelspec": {
   "display_name": "Python 3 (ipykernel)",
   "language": "python",
   "name": "python3"
  },
  "language_info": {
   "codemirror_mode": {
    "name": "ipython",
    "version": 3
   },
   "file_extension": ".py",
   "mimetype": "text/x-python",
   "name": "python",
   "nbconvert_exporter": "python",
   "pygments_lexer": "ipython3",
   "version": "3.10.6"
  }
 },
 "nbformat": 4,
 "nbformat_minor": 5
}
