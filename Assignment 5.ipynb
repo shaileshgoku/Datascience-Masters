{
 "cells": [
  {
   "cell_type": "markdown",
   "id": "defbf4c1",
   "metadata": {},
   "source": [
    "#### 1. What does an empty dictionary's code look like?"
   ]
  },
  {
   "cell_type": "code",
   "execution_count": 1,
   "id": "91c44902",
   "metadata": {},
   "outputs": [],
   "source": [
    "a = {}"
   ]
  },
  {
   "cell_type": "code",
   "execution_count": 2,
   "id": "db5491e8",
   "metadata": {},
   "outputs": [
    {
     "data": {
      "text/plain": [
       "dict"
      ]
     },
     "execution_count": 2,
     "metadata": {},
     "output_type": "execute_result"
    }
   ],
   "source": [
    "type(a)"
   ]
  },
  {
   "cell_type": "code",
   "execution_count": 3,
   "id": "b180be7d",
   "metadata": {},
   "outputs": [
    {
     "name": "stdout",
     "output_type": "stream",
     "text": [
      "{}\n"
     ]
    }
   ],
   "source": [
    "print(a)"
   ]
  },
  {
   "cell_type": "markdown",
   "id": "82f71ac0",
   "metadata": {},
   "source": [
    "#### 2. What is the value of a dictionary value with the key 'foo' and the value 42?"
   ]
  },
  {
   "cell_type": "code",
   "execution_count": 4,
   "id": "de84ebe4",
   "metadata": {},
   "outputs": [],
   "source": [
    "b = {\"foo\": 42}"
   ]
  },
  {
   "cell_type": "code",
   "execution_count": 6,
   "id": "bfbd61dd",
   "metadata": {},
   "outputs": [
    {
     "data": {
      "text/plain": [
       "42"
      ]
     },
     "execution_count": 6,
     "metadata": {},
     "output_type": "execute_result"
    }
   ],
   "source": [
    "b[\"foo\"]"
   ]
  },
  {
   "cell_type": "markdown",
   "id": "f5c72b48",
   "metadata": {},
   "source": [
    "#### 3. What is the most significant distinction between a dictionary and a list?"
   ]
  },
  {
   "cell_type": "markdown",
   "id": "61fe2cbb",
   "metadata": {},
   "source": [
    "in list we retrieve the values or items using the index, while in dictionary we retrieve it using the keys."
   ]
  },
  {
   "cell_type": "code",
   "execution_count": 7,
   "id": "fb7b8de0",
   "metadata": {},
   "outputs": [],
   "source": [
    "a = [1,2,3,4,5]"
   ]
  },
  {
   "cell_type": "code",
   "execution_count": 8,
   "id": "caaa90de",
   "metadata": {},
   "outputs": [
    {
     "data": {
      "text/plain": [
       "3"
      ]
     },
     "execution_count": 8,
     "metadata": {},
     "output_type": "execute_result"
    }
   ],
   "source": [
    "a[2]"
   ]
  },
  {
   "cell_type": "code",
   "execution_count": 9,
   "id": "d526cf42",
   "metadata": {},
   "outputs": [],
   "source": [
    "b = {\"foo\": 42}"
   ]
  },
  {
   "cell_type": "code",
   "execution_count": 10,
   "id": "8682bc06",
   "metadata": {},
   "outputs": [
    {
     "data": {
      "text/plain": [
       "42"
      ]
     },
     "execution_count": 10,
     "metadata": {},
     "output_type": "execute_result"
    }
   ],
   "source": [
    "b[\"foo\"]"
   ]
  },
  {
   "cell_type": "markdown",
   "id": "9b4a5dbe",
   "metadata": {},
   "source": [
    "#### 4. What happens if you try to access spam[&#39;foo&#39;] if spam is {&#39;bar&#39;: 100}?"
   ]
  },
  {
   "cell_type": "code",
   "execution_count": 11,
   "id": "587e7cda",
   "metadata": {},
   "outputs": [],
   "source": [
    "spam = {\"bar\":100}"
   ]
  },
  {
   "cell_type": "code",
   "execution_count": 12,
   "id": "6dbcf5a7",
   "metadata": {},
   "outputs": [
    {
     "ename": "KeyError",
     "evalue": "'foo'",
     "output_type": "error",
     "traceback": [
      "\u001b[1;31m---------------------------------------------------------------------------\u001b[0m",
      "\u001b[1;31mKeyError\u001b[0m                                  Traceback (most recent call last)",
      "Input \u001b[1;32mIn [12]\u001b[0m, in \u001b[0;36m<cell line: 1>\u001b[1;34m()\u001b[0m\n\u001b[1;32m----> 1\u001b[0m \u001b[43mspam\u001b[49m\u001b[43m[\u001b[49m\u001b[38;5;124;43m\"\u001b[39;49m\u001b[38;5;124;43mfoo\u001b[39;49m\u001b[38;5;124;43m\"\u001b[39;49m\u001b[43m]\u001b[49m\n",
      "\u001b[1;31mKeyError\u001b[0m: 'foo'"
     ]
    }
   ],
   "source": [
    "spam[\"foo\"]"
   ]
  },
  {
   "cell_type": "markdown",
   "id": "94790852",
   "metadata": {},
   "source": [
    "#### 5. If a dictionary is stored in spam, what is the difference between the expressions &#39;cat&#39; in spam and &#39;cat&#39; in spam.keys()?"
   ]
  },
  {
   "cell_type": "code",
   "execution_count": 18,
   "id": "e030a804",
   "metadata": {},
   "outputs": [],
   "source": [
    "spam ={\"bar\": 100, \"animal\": \"cat\", \"cat\": \"small animal\", \"cat\":\"bird\", \"bird\": \"cat\"}"
   ]
  },
  {
   "cell_type": "code",
   "execution_count": 20,
   "id": "04ae04c8",
   "metadata": {},
   "outputs": [
    {
     "data": {
      "text/plain": [
       "{'bar': 100, 'animal': 'cat', 'cat': 'bird', 'bird': 'cat'}"
      ]
     },
     "execution_count": 20,
     "metadata": {},
     "output_type": "execute_result"
    }
   ],
   "source": [
    "spam"
   ]
  },
  {
   "cell_type": "code",
   "execution_count": 19,
   "id": "2d9a0cb7",
   "metadata": {},
   "outputs": [
    {
     "data": {
      "text/plain": [
       "dict_keys(['bar', 'animal', 'cat', 'bird'])"
      ]
     },
     "execution_count": 19,
     "metadata": {},
     "output_type": "execute_result"
    }
   ],
   "source": [
    "spam.keys()"
   ]
  },
  {
   "cell_type": "markdown",
   "id": "23c6cac4",
   "metadata": {},
   "source": [
    "expressions can be anything in a dictionary and can be stored any number of times.\n",
    "\n",
    "keys should be unique one. That is \"cat\" as expression can be stored any number of times. \n",
    "\n",
    "while \"cat\" as keys can be stored only once.\n",
    "\n",
    "spam.keys() display the keys as list of tuples"
   ]
  },
  {
   "cell_type": "markdown",
   "id": "4a0dcaa2",
   "metadata": {},
   "source": [
    "#### 6. If a dictionary is stored in spam, what is the difference between the expressions &#39;cat&#39; in spam and &#39;cat&#39; in spam.values()?"
   ]
  },
  {
   "cell_type": "code",
   "execution_count": 21,
   "id": "a5b03b74",
   "metadata": {},
   "outputs": [],
   "source": [
    "spam ={\"bar\": 100, \"animal\": \"cat\", \"cat\": \"small animal\", \"cat\":\"bird\", \"bird\": \"cat\"}"
   ]
  },
  {
   "cell_type": "code",
   "execution_count": 22,
   "id": "9ea0fc41",
   "metadata": {},
   "outputs": [
    {
     "data": {
      "text/plain": [
       "dict_values([100, 'cat', 'bird', 'cat'])"
      ]
     },
     "execution_count": 22,
     "metadata": {},
     "output_type": "execute_result"
    }
   ],
   "source": [
    "spam.values()"
   ]
  },
  {
   "cell_type": "markdown",
   "id": "4286d051",
   "metadata": {},
   "source": [
    "expressions can be anything in a dictionary and can be stored any number of times.\n",
    "\n",
    "spam.values() display the expressions as list of tuples"
   ]
  },
  {
   "cell_type": "markdown",
   "id": "ad0c1c40",
   "metadata": {},
   "source": [
    "#### 7. What is a shortcut for the following code? "
   ]
  },
  {
   "cell_type": "markdown",
   "id": "27e6b442",
   "metadata": {},
   "source": [
    "if &#39;color&#39; not in spam:\n",
    "\n",
    "spam[&#39;color&#39;] = &#39;black&#39;"
   ]
  },
  {
   "cell_type": "code",
   "execution_count": 23,
   "id": "99af7c2d",
   "metadata": {},
   "outputs": [],
   "source": [
    "spam = [1,2,3,4,5]"
   ]
  },
  {
   "cell_type": "code",
   "execution_count": 24,
   "id": "afaf25d4",
   "metadata": {},
   "outputs": [],
   "source": [
    "spam.append(\"color\")"
   ]
  },
  {
   "cell_type": "code",
   "execution_count": 25,
   "id": "0068f3f3",
   "metadata": {},
   "outputs": [
    {
     "data": {
      "text/plain": [
       "[1, 2, 3, 4, 5, 'color']"
      ]
     },
     "execution_count": 25,
     "metadata": {},
     "output_type": "execute_result"
    }
   ],
   "source": [
    "spam"
   ]
  },
  {
   "cell_type": "markdown",
   "id": "cf11713d",
   "metadata": {},
   "source": [
    "#### 8. How do you &quot;pretty print&quot; dictionary values using which module and function?"
   ]
  },
  {
   "cell_type": "code",
   "execution_count": 26,
   "id": "a71bbc0f",
   "metadata": {},
   "outputs": [],
   "source": [
    "spam ={\"bar\": 100, \"animal\": \"cat\", \"cat\": \"small animal\", \"cat\":\"bird\", \"bird\": \"cat\"}"
   ]
  },
  {
   "cell_type": "code",
   "execution_count": 27,
   "id": "2f0cbc0f",
   "metadata": {},
   "outputs": [],
   "source": [
    "import pprint"
   ]
  },
  {
   "cell_type": "code",
   "execution_count": 28,
   "id": "ac9f80a9",
   "metadata": {},
   "outputs": [
    {
     "name": "stdout",
     "output_type": "stream",
     "text": [
      "{'animal': 'cat', 'bar': 100, 'bird': 'cat', 'cat': 'bird'}\n"
     ]
    }
   ],
   "source": [
    "pprint.pprint(spam)"
   ]
  },
  {
   "cell_type": "code",
   "execution_count": null,
   "id": "3792465e",
   "metadata": {},
   "outputs": [],
   "source": []
  }
 ],
 "metadata": {
  "kernelspec": {
   "display_name": "Python 3 (ipykernel)",
   "language": "python",
   "name": "python3"
  },
  "language_info": {
   "codemirror_mode": {
    "name": "ipython",
    "version": 3
   },
   "file_extension": ".py",
   "mimetype": "text/x-python",
   "name": "python",
   "nbconvert_exporter": "python",
   "pygments_lexer": "ipython3",
   "version": "3.10.6"
  }
 },
 "nbformat": 4,
 "nbformat_minor": 5
}
