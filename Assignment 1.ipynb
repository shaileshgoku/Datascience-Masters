{
 "cells": [
  {
   "cell_type": "markdown",
   "id": "7fbc6db6",
   "metadata": {},
   "source": [
    "#### 1. In the below elements which of them are values or an expression? eg:- values can be integer or string and expressions will be mathematical operators."
   ]
  },
  {
   "cell_type": "code",
   "execution_count": null,
   "id": "bbc21bb4",
   "metadata": {},
   "outputs": [],
   "source": [
    "* - Expressions\n",
    "\n",
    "'hello' - string\n",
    "\n",
    "-87.8 - integer\n",
    "\n",
    "- - Expressions\n",
    "\n",
    "/ - Expressions\n",
    "\n",
    "+ - Expressions\n",
    "\n",
    "6 - integer"
   ]
  },
  {
   "cell_type": "markdown",
   "id": "405fed5a",
   "metadata": {},
   "source": [
    "#### 2. What is the difference between string and variable?"
   ]
  },
  {
   "cell_type": "markdown",
   "id": "370a3a91",
   "metadata": {},
   "source": [
    "String is a datatype eg: 'glow'\n",
    "\n",
    "Variable is nothing but local or global instance by which you can store a data eg: a = 10"
   ]
  },
  {
   "cell_type": "markdown",
   "id": "d21d7bd7",
   "metadata": {},
   "source": [
    "#### 3. Describe three different data types."
   ]
  },
  {
   "cell_type": "markdown",
   "id": "b02c387d",
   "metadata": {},
   "source": [
    "integer, float, string"
   ]
  },
  {
   "cell_type": "markdown",
   "id": "803ef798",
   "metadata": {},
   "source": [
    "#### 4. What is an expression made up of? What do all expressions do?"
   ]
  },
  {
   "cell_type": "markdown",
   "id": "3ee48e79",
   "metadata": {},
   "source": [
    "An expressions is a combination of values,operators and variables. A value by itself is an expression. so \n",
    "is variables and operators. when you type expressions, interpreter evaluates it.\n",
    "eg for expressions:\n",
    "a\n",
    "\n",
    "2\n",
    "\n",
    "2 + a etc."
   ]
  },
  {
   "cell_type": "markdown",
   "id": "90a3ab7c",
   "metadata": {},
   "source": [
    "#### 5. This assignment statements, like spam = 10. What is the difference between an expression and a statement?"
   ]
  },
  {
   "cell_type": "markdown",
   "id": "5943ddad",
   "metadata": {},
   "source": [
    "yes, spam = 10 is a statement.\n",
    "An expressions is a combination of values,operators and variables.\n",
    "\n",
    "whereas, A statement is a unit of code that has an effect, like creating a variable or displaying a value\n",
    "\n",
    "eg: spam = 10, assignment statement\n",
    "\n",
    "print(\"n\"), print statement"
   ]
  },
  {
   "cell_type": "markdown",
   "id": "1d30caa7",
   "metadata": {},
   "source": [
    "#### 6. After running the following code, what does the variable bacon contain?"
   ]
  },
  {
   "cell_type": "code",
   "execution_count": 4,
   "id": "b5258a86",
   "metadata": {},
   "outputs": [
    {
     "data": {
      "text/plain": [
       "23"
      ]
     },
     "execution_count": 4,
     "metadata": {},
     "output_type": "execute_result"
    }
   ],
   "source": [
    "bacon = 22\n",
    "bacon + 1"
   ]
  },
  {
   "cell_type": "code",
   "execution_count": 5,
   "id": "a995d687",
   "metadata": {},
   "outputs": [
    {
     "name": "stdout",
     "output_type": "stream",
     "text": [
      "22\n"
     ]
    }
   ],
   "source": [
    "print(bacon)"
   ]
  },
  {
   "cell_type": "markdown",
   "id": "0ad053aa",
   "metadata": {},
   "source": [
    "answer will be 22"
   ]
  },
  {
   "cell_type": "markdown",
   "id": "87dfaea5",
   "metadata": {},
   "source": [
    "#### 7. What should the values of the following two terms be?"
   ]
  },
  {
   "cell_type": "code",
   "execution_count": 7,
   "id": "3af72b84",
   "metadata": {},
   "outputs": [
    {
     "data": {
      "text/plain": [
       "'spamspamspam'"
      ]
     },
     "execution_count": 7,
     "metadata": {},
     "output_type": "execute_result"
    }
   ],
   "source": [
    "'spam' + 'spamspam'"
   ]
  },
  {
   "cell_type": "code",
   "execution_count": 8,
   "id": "59768dbb",
   "metadata": {},
   "outputs": [
    {
     "data": {
      "text/plain": [
       "'spamspamspam'"
      ]
     },
     "execution_count": 8,
     "metadata": {},
     "output_type": "execute_result"
    }
   ],
   "source": [
    "'spam' * 3"
   ]
  },
  {
   "cell_type": "markdown",
   "id": "bd352bf7",
   "metadata": {},
   "source": [
    "#### 8. Why is eggs a valid variable name while 100 is invalid?"
   ]
  },
  {
   "cell_type": "markdown",
   "id": "80b74506",
   "metadata": {},
   "source": [
    "letters and _ followed by letters can be used as a variable. Aslo Variable is nothing but local or global instance \n",
    "by which you can store a data \n",
    "\n",
    "eg: a = 3\n",
    "\n",
    "_a = 3\n",
    "\n",
    "whereas 100 is an value by which you cannot assign anything to it.\n",
    "\n",
    "as eggs is letters it is valid whereas 100 is not valid."
   ]
  },
  {
   "cell_type": "markdown",
   "id": "a5d4489c",
   "metadata": {},
   "source": [
    "#### 9. What three functions can be used to get the integer, floating-point number, or string version of a value?"
   ]
  },
  {
   "cell_type": "markdown",
   "id": "1f421deb",
   "metadata": {},
   "source": [
    "int() - integer\n",
    "\n",
    "float() - float\n",
    "\n",
    "str() - string"
   ]
  },
  {
   "cell_type": "markdown",
   "id": "e87c4df5",
   "metadata": {},
   "source": [
    "#### 10. Why does this expression cause an error? How can you fix it?"
   ]
  },
  {
   "cell_type": "code",
   "execution_count": 9,
   "id": "7e639129",
   "metadata": {},
   "outputs": [
    {
     "ename": "TypeError",
     "evalue": "can only concatenate str (not \"int\") to str",
     "output_type": "error",
     "traceback": [
      "\u001b[1;31m---------------------------------------------------------------------------\u001b[0m",
      "\u001b[1;31mTypeError\u001b[0m                                 Traceback (most recent call last)",
      "Input \u001b[1;32mIn [9]\u001b[0m, in \u001b[0;36m<cell line: 1>\u001b[1;34m()\u001b[0m\n\u001b[1;32m----> 1\u001b[0m \u001b[38;5;124;43m'\u001b[39;49m\u001b[38;5;124;43mI have eaten\u001b[39;49m\u001b[38;5;124;43m'\u001b[39;49m\u001b[43m \u001b[49m\u001b[38;5;241;43m+\u001b[39;49m\u001b[43m \u001b[49m\u001b[38;5;241;43m99\u001b[39;49m \u001b[38;5;241m+\u001b[39m  \u001b[38;5;124m'\u001b[39m\u001b[38;5;124mburritos\u001b[39m\u001b[38;5;124m'\u001b[39m\n",
      "\u001b[1;31mTypeError\u001b[0m: can only concatenate str (not \"int\") to str"
     ]
    }
   ],
   "source": [
    "'I have eaten' + 99 +  'burritos'"
   ]
  },
  {
   "cell_type": "markdown",
   "id": "609e7a24",
   "metadata": {},
   "source": [
    "because 99 is an integer. it cannot be concatenate with str.\n",
    "we can fix it by converting integer to str."
   ]
  },
  {
   "cell_type": "code",
   "execution_count": 10,
   "id": "303458e9",
   "metadata": {},
   "outputs": [
    {
     "data": {
      "text/plain": [
       "'I have eaten99burritos'"
      ]
     },
     "execution_count": 10,
     "metadata": {},
     "output_type": "execute_result"
    }
   ],
   "source": [
    "'I have eaten' + '99' +  'burritos'"
   ]
  },
  {
   "cell_type": "code",
   "execution_count": null,
   "id": "0931bb90",
   "metadata": {},
   "outputs": [],
   "source": []
  }
 ],
 "metadata": {
  "kernelspec": {
   "display_name": "Python 3 (ipykernel)",
   "language": "python",
   "name": "python3"
  },
  "language_info": {
   "codemirror_mode": {
    "name": "ipython",
    "version": 3
   },
   "file_extension": ".py",
   "mimetype": "text/x-python",
   "name": "python",
   "nbconvert_exporter": "python",
   "pygments_lexer": "ipython3",
   "version": "3.10.6"
  }
 },
 "nbformat": 4,
 "nbformat_minor": 5
}
