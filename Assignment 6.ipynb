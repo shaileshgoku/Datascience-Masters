{
 "cells": [
  {
   "cell_type": "markdown",
   "id": "45514430",
   "metadata": {},
   "source": [
    "#### 1. What are escape characters, and how do you use them?"
   ]
  },
  {
   "cell_type": "markdown",
   "id": "bd1c1191",
   "metadata": {},
   "source": [
    "An escape character is a backslash \\ followed by the character you want to insert."
   ]
  },
  {
   "cell_type": "code",
   "execution_count": 2,
   "id": "db32d817",
   "metadata": {},
   "outputs": [],
   "source": [
    "txt = \"we are \\\"super\\\" star\""
   ]
  },
  {
   "cell_type": "code",
   "execution_count": 21,
   "id": "91e0627d",
   "metadata": {},
   "outputs": [
    {
     "name": "stdout",
     "output_type": "stream",
     "text": [
      "we are \"super\" star\n"
     ]
    }
   ],
   "source": [
    "print(txt)"
   ]
  },
  {
   "cell_type": "code",
   "execution_count": 7,
   "id": "90512570",
   "metadata": {},
   "outputs": [],
   "source": [
    "txt1 = \"we are \\nsuper star\""
   ]
  },
  {
   "cell_type": "code",
   "execution_count": 9,
   "id": "e1253ed7",
   "metadata": {},
   "outputs": [
    {
     "name": "stdout",
     "output_type": "stream",
     "text": [
      "we are \n",
      "super star\n"
     ]
    }
   ],
   "source": [
    "print(txt1)"
   ]
  },
  {
   "cell_type": "code",
   "execution_count": 10,
   "id": "47c6c0de",
   "metadata": {},
   "outputs": [],
   "source": [
    "txt2 = \"we are \\\\super star\""
   ]
  },
  {
   "cell_type": "code",
   "execution_count": 12,
   "id": "8764f502",
   "metadata": {},
   "outputs": [
    {
     "name": "stdout",
     "output_type": "stream",
     "text": [
      "we are \\super star\n"
     ]
    }
   ],
   "source": [
    "print(txt2)"
   ]
  },
  {
   "cell_type": "code",
   "execution_count": 13,
   "id": "0a58b5b2",
   "metadata": {},
   "outputs": [],
   "source": [
    "txt3 = \"we are \\rsuper star\""
   ]
  },
  {
   "cell_type": "code",
   "execution_count": 14,
   "id": "dc7f4658",
   "metadata": {},
   "outputs": [
    {
     "name": "stdout",
     "output_type": "stream",
     "text": [
      "we are \r",
      "super star\n"
     ]
    }
   ],
   "source": [
    "print(txt3)"
   ]
  },
  {
   "cell_type": "code",
   "execution_count": 15,
   "id": "adb2ac05",
   "metadata": {},
   "outputs": [],
   "source": [
    "txt4 = \"we are \\tsuper star\""
   ]
  },
  {
   "cell_type": "code",
   "execution_count": 16,
   "id": "10cfd856",
   "metadata": {},
   "outputs": [
    {
     "name": "stdout",
     "output_type": "stream",
     "text": [
      "we are \tsuper star\n"
     ]
    }
   ],
   "source": [
    "print(txt4)"
   ]
  },
  {
   "cell_type": "code",
   "execution_count": 17,
   "id": "9f1d7d11",
   "metadata": {},
   "outputs": [],
   "source": [
    "txt5 = \"we are \\bsuper star\""
   ]
  },
  {
   "cell_type": "code",
   "execution_count": 18,
   "id": "fe6256f4",
   "metadata": {},
   "outputs": [
    {
     "name": "stdout",
     "output_type": "stream",
     "text": [
      "we are \bsuper star\n"
     ]
    }
   ],
   "source": [
    "print(txt5)"
   ]
  },
  {
   "cell_type": "code",
   "execution_count": 19,
   "id": "1cad86af",
   "metadata": {},
   "outputs": [],
   "source": [
    "txt6 = \"we are \\fsuper star\""
   ]
  },
  {
   "cell_type": "code",
   "execution_count": 20,
   "id": "be7d6639",
   "metadata": {},
   "outputs": [
    {
     "name": "stdout",
     "output_type": "stream",
     "text": [
      "we are \f",
      "super star\n"
     ]
    }
   ],
   "source": [
    "print(txt6)"
   ]
  },
  {
   "cell_type": "markdown",
   "id": "f7eea088",
   "metadata": {},
   "source": [
    "#### 2. What do the escape characters n and t stand for?"
   ]
  },
  {
   "cell_type": "markdown",
   "id": "8cc44c55",
   "metadata": {},
   "source": [
    "\\n - new line\n",
    "\n",
    "\\t - new tab"
   ]
  },
  {
   "cell_type": "markdown",
   "id": "09e2d11a",
   "metadata": {},
   "source": [
    "#### 3. What is the way to include backslash characters in a string?"
   ]
  },
  {
   "cell_type": "markdown",
   "id": "7e5bde60",
   "metadata": {},
   "source": [
    "eg: \"we are \\nsuper star\""
   ]
  },
  {
   "cell_type": "markdown",
   "id": "00e70093",
   "metadata": {},
   "source": [
    "#### 4. The string &quot;Howl&#39;s Moving Castle&quot; is a correct value. Why isn&#39;t the single quote character in the word Howl&#39;s not escaped a problem?"
   ]
  },
  {
   "cell_type": "markdown",
   "id": "5a4b60c0",
   "metadata": {},
   "source": [
    "Because entire string is enclosed within double quotes"
   ]
  },
  {
   "cell_type": "markdown",
   "id": "679619e9",
   "metadata": {},
   "source": [
    "#### 5. How do you write a string of newlines if you don&#39;t want to use the n character?"
   ]
  },
  {
   "cell_type": "code",
   "execution_count": 29,
   "id": "4be5c4bc",
   "metadata": {},
   "outputs": [
    {
     "name": "stdout",
     "output_type": "stream",
     "text": [
      "we\n",
      "\n",
      "are\n",
      "\n",
      "super\n",
      "\n",
      "star"
     ]
    }
   ],
   "source": [
    "txt7 = \"we are super star\"\n",
    "for i in txt7:\n",
    "    if i == \" \":\n",
    "       print(\"\\n\")\n",
    "    else:\n",
    "        print(i, end = \"\")"
   ]
  },
  {
   "cell_type": "code",
   "execution_count": 30,
   "id": "bccb1188",
   "metadata": {},
   "outputs": [
    {
     "name": "stdout",
     "output_type": "stream",
     "text": [
      "w\n",
      "e\n",
      " \n",
      "a\n",
      "r\n",
      "e\n",
      " \n",
      "s\n",
      "u\n",
      "p\n",
      "e\n",
      "r\n",
      " \n",
      "s\n",
      "t\n",
      "a\n",
      "r\n"
     ]
    }
   ],
   "source": [
    "txt7 = \"we are super star\"\n",
    "for i in txt7:\n",
    "    print(i)"
   ]
  },
  {
   "cell_type": "markdown",
   "id": "db2ad39d",
   "metadata": {},
   "source": [
    "#### 6. What are the values of the given expressions?"
   ]
  },
  {
   "cell_type": "markdown",
   "id": "4f03de05",
   "metadata": {},
   "source": [
    "&#39;Hello, world!&#39;[1]\n",
    "\n",
    "&#39;Hello, world!&#39;[0:5]\n",
    "\n",
    "&#39;Hello, world!&#39;[:5]\n",
    "\n",
    "&#39;Hello, world!&#39;[3:]"
   ]
  },
  {
   "cell_type": "code",
   "execution_count": 32,
   "id": "6d045c09",
   "metadata": {},
   "outputs": [
    {
     "data": {
      "text/plain": [
       "'e'"
      ]
     },
     "execution_count": 32,
     "metadata": {},
     "output_type": "execute_result"
    }
   ],
   "source": [
    "'Hello, world!'[1]"
   ]
  },
  {
   "cell_type": "code",
   "execution_count": 33,
   "id": "fa718c17",
   "metadata": {},
   "outputs": [
    {
     "data": {
      "text/plain": [
       "'Hello'"
      ]
     },
     "execution_count": 33,
     "metadata": {},
     "output_type": "execute_result"
    }
   ],
   "source": [
    "'Hello, world!'[0:5]"
   ]
  },
  {
   "cell_type": "code",
   "execution_count": 34,
   "id": "d81ba924",
   "metadata": {},
   "outputs": [
    {
     "data": {
      "text/plain": [
       "'Hello'"
      ]
     },
     "execution_count": 34,
     "metadata": {},
     "output_type": "execute_result"
    }
   ],
   "source": [
    "'Hello, world!'[:5]"
   ]
  },
  {
   "cell_type": "code",
   "execution_count": 35,
   "id": "d15d35ff",
   "metadata": {},
   "outputs": [
    {
     "data": {
      "text/plain": [
       "'lo, world!'"
      ]
     },
     "execution_count": 35,
     "metadata": {},
     "output_type": "execute_result"
    }
   ],
   "source": [
    "'Hello, world!'[3:]"
   ]
  },
  {
   "cell_type": "markdown",
   "id": "96f5cd35",
   "metadata": {},
   "source": [
    "#### 7. What are the values of the following expressions?"
   ]
  },
  {
   "cell_type": "markdown",
   "id": "694d3d48",
   "metadata": {},
   "source": [
    "&#39;Hello&#39;.upper()\n",
    "\n",
    "&#39;Hello&#39;.upper().isupper()\n",
    "\n",
    "&#39;Hello&#39;.upper().lower()"
   ]
  },
  {
   "cell_type": "code",
   "execution_count": 36,
   "id": "1e7ec532",
   "metadata": {},
   "outputs": [
    {
     "data": {
      "text/plain": [
       "'HELLO'"
      ]
     },
     "execution_count": 36,
     "metadata": {},
     "output_type": "execute_result"
    }
   ],
   "source": [
    "'Hello'.upper()"
   ]
  },
  {
   "cell_type": "code",
   "execution_count": 37,
   "id": "ba2ecd73",
   "metadata": {},
   "outputs": [
    {
     "data": {
      "text/plain": [
       "True"
      ]
     },
     "execution_count": 37,
     "metadata": {},
     "output_type": "execute_result"
    }
   ],
   "source": [
    "'Hello'.upper().isupper()"
   ]
  },
  {
   "cell_type": "code",
   "execution_count": 38,
   "id": "bc4e828f",
   "metadata": {},
   "outputs": [
    {
     "data": {
      "text/plain": [
       "'hello'"
      ]
     },
     "execution_count": 38,
     "metadata": {},
     "output_type": "execute_result"
    }
   ],
   "source": [
    "'Hello'.upper().lower()"
   ]
  },
  {
   "cell_type": "markdown",
   "id": "ff421d19",
   "metadata": {},
   "source": [
    "#### 8. What are the values of the following expressions?"
   ]
  },
  {
   "cell_type": "markdown",
   "id": "e7337951",
   "metadata": {},
   "source": [
    "&#39;Remember, remember, the fifth of July.&#39;.split()\n",
    "\n",
    "&#39;-&#39;.join(&#39;There can only one.&#39;.split())"
   ]
  },
  {
   "cell_type": "code",
   "execution_count": 39,
   "id": "a36bedb6",
   "metadata": {},
   "outputs": [
    {
     "data": {
      "text/plain": [
       "['Remember,', 'remember,', 'the', 'fifth', 'of', 'July.']"
      ]
     },
     "execution_count": 39,
     "metadata": {},
     "output_type": "execute_result"
    }
   ],
   "source": [
    "'Remember, remember, the fifth of July.'.split()"
   ]
  },
  {
   "cell_type": "code",
   "execution_count": 40,
   "id": "4f4a3cc7",
   "metadata": {},
   "outputs": [
    {
     "data": {
      "text/plain": [
       "'There-can-only-one.'"
      ]
     },
     "execution_count": 40,
     "metadata": {},
     "output_type": "execute_result"
    }
   ],
   "source": [
    "'-'.join('There can only one.'.split())"
   ]
  },
  {
   "cell_type": "markdown",
   "id": "aa09575e",
   "metadata": {},
   "source": [
    "#### 9. What are the methods for right-justifying, left-justifying, and centering a string?"
   ]
  },
  {
   "cell_type": "code",
   "execution_count": 46,
   "id": "b2880c51",
   "metadata": {},
   "outputs": [
    {
     "data": {
      "text/plain": [
       "'                                         we are super star                                          '"
      ]
     },
     "execution_count": 46,
     "metadata": {},
     "output_type": "execute_result"
    }
   ],
   "source": [
    "txt7 = \"we are super star\"\n",
    "txt7.center(100)"
   ]
  },
  {
   "cell_type": "code",
   "execution_count": 69,
   "id": "53d835ea",
   "metadata": {},
   "outputs": [
    {
     "data": {
      "text/plain": [
       "'                                                                                   we are super star'"
      ]
     },
     "execution_count": 69,
     "metadata": {},
     "output_type": "execute_result"
    }
   ],
   "source": [
    "txt7.rjust(100)"
   ]
  },
  {
   "cell_type": "code",
   "execution_count": 77,
   "id": "77602661",
   "metadata": {},
   "outputs": [
    {
     "data": {
      "text/plain": [
       "'we are super star-----------------------'"
      ]
     },
     "execution_count": 77,
     "metadata": {},
     "output_type": "execute_result"
    }
   ],
   "source": [
    "txt7.ljust(40, '-')"
   ]
  },
  {
   "cell_type": "markdown",
   "id": "1fb068b8",
   "metadata": {},
   "source": [
    "#### 10. What is the best way to remove whitespace characters from the start or end?"
   ]
  },
  {
   "cell_type": "code",
   "execution_count": 71,
   "id": "3682d800",
   "metadata": {},
   "outputs": [],
   "source": [
    "txt8 = txt7.rjust(100)"
   ]
  },
  {
   "cell_type": "code",
   "execution_count": 72,
   "id": "db39bbbb",
   "metadata": {},
   "outputs": [
    {
     "data": {
      "text/plain": [
       "'                                                                                   we are super star'"
      ]
     },
     "execution_count": 72,
     "metadata": {},
     "output_type": "execute_result"
    }
   ],
   "source": [
    "txt8"
   ]
  },
  {
   "cell_type": "code",
   "execution_count": 73,
   "id": "13e7783a",
   "metadata": {},
   "outputs": [
    {
     "data": {
      "text/plain": [
       "'we are super star'"
      ]
     },
     "execution_count": 73,
     "metadata": {},
     "output_type": "execute_result"
    }
   ],
   "source": [
    "txt8.lstrip()"
   ]
  },
  {
   "cell_type": "code",
   "execution_count": 81,
   "id": "a7ad8811",
   "metadata": {},
   "outputs": [],
   "source": [
    "txt9 = txt7.ljust(40)"
   ]
  },
  {
   "cell_type": "code",
   "execution_count": 82,
   "id": "dcf82fd2",
   "metadata": {},
   "outputs": [
    {
     "data": {
      "text/plain": [
       "'we are super star                       '"
      ]
     },
     "execution_count": 82,
     "metadata": {},
     "output_type": "execute_result"
    }
   ],
   "source": [
    "txt9"
   ]
  },
  {
   "cell_type": "code",
   "execution_count": 83,
   "id": "91a5266e",
   "metadata": {},
   "outputs": [
    {
     "data": {
      "text/plain": [
       "'we are super star'"
      ]
     },
     "execution_count": 83,
     "metadata": {},
     "output_type": "execute_result"
    }
   ],
   "source": [
    "txt9.rstrip()"
   ]
  },
  {
   "cell_type": "code",
   "execution_count": null,
   "id": "f784a70c",
   "metadata": {},
   "outputs": [],
   "source": []
  }
 ],
 "metadata": {
  "kernelspec": {
   "display_name": "Python 3 (ipykernel)",
   "language": "python",
   "name": "python3"
  },
  "language_info": {
   "codemirror_mode": {
    "name": "ipython",
    "version": 3
   },
   "file_extension": ".py",
   "mimetype": "text/x-python",
   "name": "python",
   "nbconvert_exporter": "python",
   "pygments_lexer": "ipython3",
   "version": "3.10.6"
  }
 },
 "nbformat": 4,
 "nbformat_minor": 5
}
